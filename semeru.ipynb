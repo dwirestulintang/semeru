{
  "nbformat": 4,
  "nbformat_minor": 0,
  "metadata": {
    "colab": {
      "provenance": [],
      "include_colab_link": true
    },
    "kernelspec": {
      "name": "ir",
      "display_name": "R"
    }
  },
  "cells": [
    {
      "cell_type": "markdown",
      "metadata": {
        "id": "view-in-github",
        "colab_type": "text"
      },
      "source": [
        "<a href=\"https://colab.research.google.com/github/dwirestulintang/semeru/blob/main/semeru.ipynb\" target=\"_parent\"><img src=\"https://colab.research.google.com/assets/colab-badge.svg\" alt=\"Open In Colab\"/></a>"
      ]
    },
    {
      "cell_type": "code",
      "metadata": {
        "id": "qEVxjQTUg7O3",
        "outputId": "a99705ce-dc15-4838-ec7d-a1c585d2b52b",
        "colab": {
          "base_uri": "https://localhost:8080/"
        }
      },
      "source": [
        "install.packages(\"httr\")"
      ],
      "execution_count": 1,
      "outputs": [
        {
          "output_type": "stream",
          "name": "stderr",
          "text": [
            "Installing package into ‘/usr/local/lib/R/site-library’\n",
            "(as ‘lib’ is unspecified)\n",
            "\n"
          ]
        }
      ]
    },
    {
      "cell_type": "code",
      "metadata": {
        "id": "As-bwdcEhdtW",
        "outputId": "35fe767a-5de2-4b89-a17b-47c6f4653bbc",
        "colab": {
          "base_uri": "https://localhost:8080/"
        }
      },
      "source": [
        "install.packages(\"twitteR\")"
      ],
      "execution_count": 2,
      "outputs": [
        {
          "output_type": "stream",
          "name": "stderr",
          "text": [
            "Installing package into ‘/usr/local/lib/R/site-library’\n",
            "(as ‘lib’ is unspecified)\n",
            "\n",
            "also installing the dependency ‘rjson’\n",
            "\n",
            "\n"
          ]
        }
      ]
    },
    {
      "cell_type": "code",
      "metadata": {
        "id": "S7kwElQmhmGu"
      },
      "source": [
        "library(\"httr\")"
      ],
      "execution_count": 3,
      "outputs": []
    },
    {
      "cell_type": "code",
      "metadata": {
        "id": "AQjYKO17hqz3"
      },
      "source": [
        "library(\"twitteR\")"
      ],
      "execution_count": 5,
      "outputs": []
    },
    {
      "cell_type": "code",
      "metadata": {
        "id": "DT501gOHiKXV",
        "outputId": "4defe9e7-53e6-4107-926b-5965e3fcad12",
        "colab": {
          "base_uri": "https://localhost:8080/"
        }
      },
      "source": [
        "#setup_twitter_oauth(\"APIKey\",\"APISecretKey\", \"AccessToken\", \"AccessSecretToken\")\n",
        "setup_twitter_oauth('kObaIEuM8y72KOS1T6xHlfbXM','bTAwjeyp4XIr0jNCL374CGvUyOfdGp3wYug7YvjuiCqYIb5IRm','1070107987681759233-NtrmeY56cAkBKHHRaPqv9di6LGohgC','jkzK9HsoLeghS0WdK7OOt2lFvBclHSOqRRPh83XB5NCVt')"
      ],
      "execution_count": 6,
      "outputs": [
        {
          "output_type": "stream",
          "name": "stdout",
          "text": [
            "[1] \"Using direct authentication\"\n"
          ]
        }
      ]
    },
    {
      "cell_type": "code",
      "metadata": {
        "id": "9U1qMp6IiqTt",
        "colab": {
          "base_uri": "https://localhost:8080/"
        },
        "outputId": "0a8dd8ff-1eb1-47b5-c6ca-cfac8d4e4eb5"
      },
      "source": [
        "tweets<- searchTwitter(\"#wakanda\",lang=\"en\", n=5000)"
      ],
      "execution_count": 7,
      "outputs": [
        {
          "output_type": "stream",
          "name": "stderr",
          "text": [
            "Warning message in doRppAPICall(\"search/tweets\", n, params = params, retryOnRateLimit = retryOnRateLimit, :\n",
            "“5000 tweets were requested but the API can only return 780”\n"
          ]
        }
      ]
    },
    {
      "cell_type": "code",
      "metadata": {
        "id": "dSpVtoC0iwwt"
      },
      "source": [
        "tweets<- twListToDF(tweets)"
      ],
      "execution_count": 8,
      "outputs": []
    },
    {
      "cell_type": "code",
      "metadata": {
        "id": "5Ic5z2Lei2Ag"
      },
      "source": [
        "write.csv(tweets,\"semeru_.csv\", row.names = FALSE)"
      ],
      "execution_count": 9,
      "outputs": []
    }
  ]
}